{
  "nbformat": 4,
  "nbformat_minor": 0,
  "metadata": {
    "colab": {
      "name": "deep learning from scratch.ipynb",
      "provenance": [],
      "collapsed_sections": [
        "y-rJ4vukltLH",
        "EVZ-j4-UlkRg"
      ],
      "toc_visible": true,
      "mount_file_id": "1rs8cJYYhjxJztqtzsvRgikqrgLS52eEQ",
      "authorship_tag": "ABX9TyNTsE4H8PaHUPvg05+eVvpC",
      "include_colab_link": true
    },
    "kernelspec": {
      "name": "python3",
      "display_name": "Python 3"
    }
  },
  "cells": [
    {
      "cell_type": "markdown",
      "metadata": {
        "id": "view-in-github",
        "colab_type": "text"
      },
      "source": [
        "<a href=\"https://colab.research.google.com/github/gmae199boy/ai_deeplearning/blob/main/deep_learning_from_scratch.ipynb\" target=\"_parent\"><img src=\"https://colab.research.google.com/assets/colab-badge.svg\" alt=\"Open In Colab\"/></a>"
      ]
    },
    {
      "cell_type": "markdown",
      "metadata": {
        "id": "DWpZja7LNGCp"
      },
      "source": [
        "# 밑바닥부터 시작하는 딥러닝\n"
      ]
    },
    {
      "cell_type": "code",
      "metadata": {
        "colab": {
          "base_uri": "https://localhost:8080/"
        },
        "id": "VtTfAmSxlJEZ",
        "outputId": "436c6e59-eef5-4f88-d8ca-79b352d3430a"
      },
      "source": [
        "%cd drive/MyDrive/deep-learning/"
      ],
      "execution_count": 2,
      "outputs": [
        {
          "output_type": "stream",
          "text": [
            "[Errno 2] No such file or directory: 'drive/MyDrive/deep-learning/'\n",
            "/content/drive/MyDrive/deep-learning\n"
          ],
          "name": "stdout"
        }
      ]
    },
    {
      "cell_type": "markdown",
      "metadata": {
        "id": "y-rJ4vukltLH"
      },
      "source": [
        "## 퍼셉트론\r\n",
        "- 가중치와 편향\r\n",
        "  - 세타에 -b를 넣으면 x1w1 + x2w2 + b <= 0 == 0, x1w1 + x2w2 + b > 0 == 1이 된다\r\n",
        "- 퍼셉트론은 직선만 그릴 수 있으므로 XOR은 나타낼 수 없다 -> 비선형이기 때문에\r\n",
        "  - x1, x2가 NAND, OR 게이트에 입력되고, NAND, OR의 출력이 AND로 입력되면 XOR게이트 완성\r\n",
        "  - 다층 퍼셉트론"
      ]
    },
    {
      "cell_type": "code",
      "metadata": {
        "id": "ouxS9mMpNR2v"
      },
      "source": [
        "import numpy as np\n",
        "import matplotlib.pyplot as plt\n",
        "\n",
        "\n",
        "# 이 값이 0보다 작거나 같으면 0, 크면 1\n",
        "def AND(x1, x2):\n",
        "  x = np.array([x1, x2])\n",
        "  w = np.array([0.5, 0.5])\n",
        "  b = -0.7\n",
        "  tmp = np.sum(w*x) + b\n",
        "  if tmp <= 0:\n",
        "    return 0\n",
        "  else:\n",
        "    return 1\n",
        "\n",
        "def NAND(x1, x2):\n",
        "  x = np.array([x1, x2])\n",
        "  w = np.array([-0.5, -0.5]) # AND와는 가중치(x, b)만 다르다\n",
        "  b = 0.7\n",
        "  tmp = np.sum(w*x) + b\n",
        "  if tmp <= 0:\n",
        "    return 0\n",
        "  else:\n",
        "    return 0\n",
        "\n",
        "def OR(x1, x2):\n",
        "  x = np.array([x1, x2])\n",
        "  w = np.array([0.5, 0.5])\n",
        "  b = -0.2\n",
        "  tmp = np.sum(w*x) + b\n",
        "  if tmp <= 0:\n",
        "    return 0\n",
        "  else:\n",
        "    return 1\n",
        "\n",
        "def XOR(x1, x2):\n",
        "  s1 = NAND(x1, x2)\n",
        "  s2 = OR(x1, x2)\n",
        "  y = AND(s1, s2)\n",
        "  return y\n",
        "  "
      ],
      "execution_count": null,
      "outputs": []
    },
    {
      "cell_type": "markdown",
      "metadata": {
        "id": "EVZ-j4-UlkRg"
      },
      "source": [
        "## 신경망\r\n",
        "- 퍼셉트론의 단점(가중치를 수동으로 설정)을 자동으로 학습하게 해주는것\r\n",
        "- 활성화 함수 (activation function)\r\n",
        "  -  y = h(b + w1x1 + w2x2)\r\n",
        "  - h(x) = 0 (x <= 0), 1 (x > 0)\r\n",
        "  - h(x)를 활성화 함수라 한다\r\n",
        "  - a = b + w1x1 + w2x2, y = h(a)\r\n",
        "  - 신경망의 동작을 더명확히 드러내고자 할 때는 활성화 처리과정을 노드에 그린다\r\n",
        "- 계단 함수 (step function)\r\n",
        "  - 임계값을 경계로 출력이 바뀌는 함수 (활성화 함수)\r\n",
        "  - 그래서 퍼셉트론에서는 활성화 함수로 계단 함수를 이용한다\r\n",
        "- 활성화 함수는 여러 함수중 계단 함수를 사용하고 있음\r\n",
        "- 활성화 함수를 계단 함수에서 다른 함수로 변경하는 것이 신경망의 세계로 가는 길\r\n",
        "- 시그모이드 함수 (sigmoid function)\r\n",
        "  - h(x) = 1 / 1 + exp(-x)\r\n",
        "  - 신경망에서는 활성화 함수로 시그모이드 함수를 사용해 신호를 변환, 다음 뉴런에 전달\r\n",
        "  - 퍼셉트론과 신경망의 주된 차이는 활성화 함수가 다르다는 것 뿐"
      ]
    },
    {
      "cell_type": "code",
      "metadata": {
        "colab": {
          "base_uri": "https://localhost:8080/",
          "height": 265
        },
        "id": "_F9knV6Kqz7i",
        "outputId": "8c8087ba-88e2-42ab-d11d-d97eccb22ab1"
      },
      "source": [
        "# 계단 함수\n",
        "# def step_function(x):\n",
        "#   if x > 0:\n",
        "#     return 1\n",
        "#   else:\n",
        "#     return 0\n",
        "\n",
        "def step_function(x):\n",
        "  return np.array(x > 0, dtype = np.int)\n",
        "\n",
        "x = np.arange(-5.0, 5.0, 0.1)\n",
        "y = step_function(x)\n",
        "plt.plot(x, y)\n",
        "plt.ylim(-0.1, 1.1) # y축의 범위 지정\n",
        "plt.show()\n"
      ],
      "execution_count": null,
      "outputs": [
        {
          "output_type": "display_data",
          "data": {
            "image/png": "[encoded data removed]",
            "text/plain": [
              "<Figure size 432x288 with 1 Axes>"
            ]
          },
          "metadata": {
            "tags": [],
            "needs_background": "light"
          }
        }
      ]
    },
    {
      "cell_type": "markdown",
      "metadata": {
        "id": "OSBKdF-Fs6md"
      },
      "source": [
        "- 이렇게 생겼기 때문에 계단 함수라 불림"
      ]
    },
    {
      "cell_type": "code",
      "metadata": {
        "colab": {
          "base_uri": "https://localhost:8080/",
          "height": 265
        },
        "id": "qRKc0qTRtEhE",
        "outputId": "e4336e64-4e7f-4d9d-afbd-709fdc6e1e65"
      },
      "source": [
        "# 시그모이드 함수\n",
        "def sigmoid(x):\n",
        "  return 1 / (1 + np.exp(-x))\n",
        "\n",
        "x = np.arange(-5.0, 5.0, 0.1)\n",
        "y = sigmoid(x)\n",
        "plt.plot(x, y)\n",
        "plt.ylim(-0.1, 1.1) # y축의 범위 지정\n",
        "plt.show()"
      ],
      "execution_count": null,
      "outputs": [
        {
          "output_type": "display_data",
          "data": {
            "image/png": "[encoded data removed]",
            "text/plain": [
              "<Figure size 432x288 with 1 Axes>"
            ]
          },
          "metadata": {
            "tags": [],
            "needs_background": "light"
          }
        }
      ]
    },
    {
      "cell_type": "code",
      "metadata": {
        "colab": {
          "base_uri": "https://localhost:8080/",
          "height": 265
        },
        "id": "cjb2is5OvGaX",
        "outputId": "d638de24-61ee-46ca-91d3-77e6e7727168"
      },
      "source": [
        "x = np.arange(-5.0, 5.0, 0.1)\n",
        "y = step_function(x)\n",
        "plt.plot(x, y, linestyle=\"--\")\n",
        "y = sigmoid(x)\n",
        "plt.plot(x, y)\n",
        "plt.ylim(-0.1, 1.1) # y축의 범위 지정\n",
        "plt.show()"
      ],
      "execution_count": null,
      "outputs": [
        {
          "output_type": "display_data",
          "data": {
            "image/png": "[encoded data removed]",
            "text/plain": [
              "<Figure size 432x288 with 1 Axes>"
            ]
          },
          "metadata": {
            "tags": [],
            "needs_background": "light"
          }
        }
      ]
    },
    {
      "cell_type": "markdown",
      "metadata": {
        "id": "PnxZhhR6vaW0"
      },
      "source": [
        "- 시그모이드의 이런 입력에 따라 출력이 연속적으로 변화하는 매끄러움이 신경망 학습에서 ***아주 중요***하다\n",
        "- 퍼셉트론에선 0 ,1이 흘렀다면 신경망에서는 연속적인 실수가 흐른다\n",
        "- 둘 다 입력이 커지면 출력이 1에 가까워지고 반대인 경우는 0에 가까워지고 0, 1사이의 값만 반환한다는 것이 공통점\n",
        "- 둘 다 비선형 함수이다\n",
        "- 신경망은 층을 깊게 해야 하기 때문에 선형함수를 사용할 수 없다\n",
        " "
      ]
    },
    {
      "cell_type": "markdown",
      "metadata": {
        "id": "M9zIjM0fxe7b"
      },
      "source": [
        "- ReLU (rectified Linear Unit, 렐루) 함수\n",
        "  - 시그모이드는 오래전부터 사용해왔으나, 최근에는 렐루를 주로 사용함\n",
        "  - 렐루는 입력이 0을 넘으면 그 입력을 그대로 출력하고, 0 이하이면 0을 출력한다\n",
        "  - h(x) = x (x > 0), 0 (x <= 0)\n"
      ]
    },
    {
      "cell_type": "code",
      "metadata": {
        "id": "akIkx5lBx_kF"
      },
      "source": [
        "# ReLU 함수\n",
        "def relu(x):\n",
        "  return np.maximum(0, x) # maximum은 두 입력 값 중 큰 값을 반환\n",
        "\n",
        "# np.ndim(x) -> 배열의 차원 수"
      ],
      "execution_count": null,
      "outputs": []
    },
    {
      "cell_type": "markdown",
      "metadata": {
        "id": "hUyKbvjk4EtI"
      },
      "source": [
        "- 3층 신경망"
      ]
    },
    {
      "cell_type": "code",
      "metadata": {
        "colab": {
          "base_uri": "https://localhost:8080/"
        },
        "id": "KKvAPdQp4HVL",
        "outputId": "95fa9eb5-84bf-4a03-ce0e-eafec9a754ef"
      },
      "source": [
        "X = np.array([1.0, 0.5])\n",
        "W1 = np.array([[0.1, 0.3, 0.5], [0.2, 0.4, 0.6]])\n",
        "B1 = np.array([0.1, 0.2, 0.3])\n",
        "\n",
        "A1 = np.dot(X, W1) + B1\n",
        "\n",
        "Z1 = sigmoid(A1)\n",
        "\n",
        "print(Z1) # 1층\n",
        "\n",
        "W2 = np.array([[0.1, 0.4], [0.2, 0.5], [0.3, 0.6]])\n",
        "B2 = np.array([0.1, 0.2])\n",
        "\n",
        "A2 = np.dot(Z1, W2) + B2\n",
        "Z2 = sigmoid(A2)\n",
        "\n",
        "print(Z2) # 2층\n",
        "\n",
        "# 항등 함수\n",
        "def identity_function(x):\n",
        "  return x\n",
        "\n",
        "W3 = np.array([[0.1, 0.3], [0.2, 0.4]])\n",
        "B3 = np.array([0.1, 0.2])\n",
        "\n",
        "A3 = np.dot(Z2, W3) + B3\n",
        "\n",
        "y = identity_function(A3)\n",
        "print(y)"
      ],
      "execution_count": null,
      "outputs": [
        {
          "output_type": "stream",
          "text": [
            "[0.57444252 0.66818777 0.75026011]\n",
            "[0.62624937 0.7710107 ]\n",
            "[0.31682708 0.69627909]\n"
          ],
          "name": "stdout"
        }
      ]
    },
    {
      "cell_type": "markdown",
      "metadata": {
        "id": "tOSLBpBS56AU"
      },
      "source": [
        "- 출력층의 활성화 함수는 풀고자 하는 문제의 성질에 맞게 정함\n",
        "  - 회귀 -> 항등 함수\n",
        "  - 2클래스 분류 -> 시그모이드\n",
        "  - 다중클래스 -> 소프트맥스\n",
        "\n",
        "### 정리"
      ]
    },
    {
      "cell_type": "code",
      "metadata": {
        "colab": {
          "base_uri": "https://localhost:8080/"
        },
        "id": "HBEhiQ9ZOgD2",
        "outputId": "b649c226-2fbe-418d-b57a-e271cc9cbffb"
      },
      "source": [
        "def init_network():\n",
        "  network = {}\n",
        "  network['W1'] = np.array([[0.1, 0.3, 0.5], [0.2, 0.4, 0.6]])\n",
        "  network['b1'] = np.array([0.1, 0.2, 0.3])\n",
        "  network['W2'] = np.array([[0.1, 0.4], [0.2, 0.5], [0.3, 0.6]])\n",
        "  network['b2'] = np.array([0.1, 0.2])\n",
        "  network['W3'] = np.array([[0.1, 0.3], [0.2, 0.4]])\n",
        "  network['b3'] = np.array([0.1, 0.2])\n",
        "\n",
        "  return network\n",
        "\n",
        "# backward(역방향)도 있음\n",
        "# forward는 (순방향)\n",
        "def forward(network, x):\n",
        "  W1, W2, W3 = network['W1'], network['W2'], network['W3']\n",
        "  b1, b2, b3 = network['b1'], network['b2'], network['b3']\n",
        "\n",
        "  a1 = np.dot(x, W1) + b1\n",
        "  z1 = sigmoid(a1)\n",
        "  a2 = np.dot(z1, W2) + b2\n",
        "  z2 = sigmoid(a2)\n",
        "  a3 = np.dot(z2, W3) + b3\n",
        "  y = identity_function(a3)\n",
        "\n",
        "  return y\n",
        "\n",
        "network = init_network()\n",
        "x = np.array([1.0, 0.5])\n",
        "y = forward(network, x)\n",
        "print(y)"
      ],
      "execution_count": null,
      "outputs": [
        {
          "output_type": "stream",
          "text": [
            "[0.31682708 0.69627909]\n"
          ],
          "name": "stdout"
        }
      ]
    },
    {
      "cell_type": "markdown",
      "metadata": {
        "id": "C-DTOfwrRfNc"
      },
      "source": [
        "- 소프트맥스 함수 (softmax function)\n",
        "  - 오버플로우의 문제가 있다\n",
        "  - 분수에 상수 C를 곱하면 결과는 결국 같기 때문에 ak에 c를 더한다\n",
        "  - 입력 신호 중 최댓값을 대입한다\n",
        "  - 소프트맥스의 출력 총합은 항상 1이다. 그래서 출력을 ***확률***로 해석할 수 있다\n",
        "  - 소프트맥스를 적용해도 원소간의 대소관계는 변하지 않는다. a에서 2번째 원소가 제일 크다면 y에서 제일 큰 원소도 2번째이다. 그래서 신경망으로 분류를 할때는 출력층의 소프트맥스 함수를 생략해도 된다.\n",
        "  - 학습과 추론 단계가 있는데, 추론 단계에서는 함수를 생략하는 것이 일반적이지만 학습시킬 때에는 출력층에서 함수를 사용한다."
      ]
    },
    {
      "cell_type": "code",
      "metadata": {
        "id": "7LMWCa8VTBbE"
      },
      "source": [
        "# 오버플로우를 염두에 두지 않은 식\n",
        "def softmax_function(a):\n",
        "  exp_a = np.exp(a)\n",
        "  sum_exp_a = np.sum(exp_a)\n",
        "  y = exp_a / sum_exp_a\n",
        "\n",
        "  return y"
      ],
      "execution_count": null,
      "outputs": []
    },
    {
      "cell_type": "code",
      "metadata": {
        "id": "ytFMCzPYUFcf"
      },
      "source": [
        "# 오버플로우를 막는 식\n",
        "def softmax(a):\n",
        "  c = np.max(a)\n",
        "  exp_a = np.exp(a - c)\n",
        "  sum_exp_a = np.sum(exp_a)\n",
        "  y = exp_a / sum_exp_a\n",
        "\n",
        "  return y"
      ],
      "execution_count": null,
      "outputs": []
    },
    {
      "cell_type": "markdown",
      "metadata": {
        "id": "piQKwd6HdmXS"
      },
      "source": [
        "- 출력층의 뉴런 수\n",
        "  - 분류에서는 분류하고 싶은 클래스 수로 설정하는 것이 일반적\n",
        "  - 밑의 예는 입력층 뉴런이 784개 이다. 이는 이미지 크기가 28 * 28 = 784 이기 때문이다.\n",
        "  - 출력층은 10개 이다. 숫자 0 ~ 9까지를 구분하는 문제이기 때문.\n",
        "  - 은닉층은 2개로 첫 번째 은닉층은 50개의 뉴런, 두 번째는 100개의 뉴런. 이것은 임의로 정한 값"
      ]
    },
    {
      "cell_type": "code",
      "metadata": {
        "id": "zgGnp79jm9uo"
      },
      "source": [
        "import sys, os\n",
        "sys.path.append(os.pardir) # 부모 디렉터리의 파일을 가져올 수 있도록 설정\n",
        "from dataset.mnist import load_mnist\n",
        "from PIL import Image\n",
        "import pickle\n",
        "\n",
        "def get_data():\n",
        "  (x_train, t_train), (x_test, t_test) = \\\n",
        "    load_mnist(flatten=True, normalize=False, one_hot_label=False)\n",
        "  return x_test, t_test\n",
        "\n",
        "def init_network():\n",
        "  with open(\"ch03/sample_weight.pkl\", 'rb') as f:\n",
        "    network = pickle.load(f)\n",
        "  return network\n",
        "\n",
        "def predict(network, x):\n",
        "  W1, W2, W3 = network['W1'], network['W2'], network['W3']\n",
        "  b1, b2, b3 = network['b1'], network['b2'], network['b3']\n",
        "\n",
        "  a1 = np.dot(x, W1) + b1\n",
        "  z1 = sigmoid(a1)\n",
        "  a2 = np.dot(z1, W2) + b2\n",
        "  z2 = sigmoid(a2)\n",
        "  a3 = np.dot(z2, W3) + b3\n",
        "  y = softmax(a3)\n",
        "\n",
        "  return y"
      ],
      "execution_count": null,
      "outputs": []
    },
    {
      "cell_type": "code",
      "metadata": {
        "colab": {
          "base_uri": "https://localhost:8080/",
          "height": 99
        },
        "id": "3pS8lqep4q-D",
        "outputId": "e194db7a-9f97-4bc6-965d-21b48aee4fff"
      },
      "source": [
        "def img_show(img):\r\n",
        "    pil_img = Image.fromarray(np.uint8(img))\r\n",
        "    # 이건 일반 용\r\n",
        "    # pil_img.show()\r\n",
        "\r\n",
        "    # 이건 구글 코랩용\r\n",
        "    display(pil_img)\r\n",
        "\r\n",
        "img = x_train[0]\r\n",
        "label = t_train[0]\r\n",
        "print(label)  # 5\r\n",
        "\r\n",
        "print(img.shape)  # (784,)\r\n",
        "img = img.reshape(28, 28)  # 형상을 원래 이미지의 크기로 변형\r\n",
        "print(img.shape)  # (28, 28)\r\n",
        "\r\n",
        "img_show(img)\r\n",
        "# plt.imshow(img)\r\n",
        "# plt.show()\r\n"
      ],
      "execution_count": null,
      "outputs": [
        {
          "output_type": "stream",
          "text": [
            "5\n",
            "(784,)\n",
            "(28, 28)\n"
          ],
          "name": "stdout"
        },
        {
          "output_type": "display_data",
          "data": {
            "image/png": "[encoded data removed]",
            "text/plain": [
              "<PIL.Image.Image image mode=L size=28x28 at 0x7F10CD182710>"
            ]
          },
          "metadata": {
            "tags": []
          }
        }
      ]
    },
    {
      "cell_type": "code",
      "metadata": {
        "colab": {
          "base_uri": "https://localhost:8080/"
        },
        "id": "Fq9gQ-OJ9BrO",
        "outputId": "d67198e5-e499-4d1d-f525-a294636dc127"
      },
      "source": [
        "x, t = get_data()\r\n",
        "network = init_network()\r\n",
        "\r\n",
        "accuracy_cnt = 0\r\n",
        "for i in range(len(x)):\r\n",
        "  y = predict(network, x[i])\r\n",
        "  p = np.argmax(y) # 확률이 가장 높은 원소의 인덱스를 얻는다\r\n",
        "  if p == t[i]:\r\n",
        "    accuracy_cnt += 1\r\n",
        "\r\n",
        "print(\"Accuracy: \" + str(float(accuracy_cnt) / len(x)))"
      ],
      "execution_count": null,
      "outputs": [
        {
          "output_type": "stream",
          "text": [
            "/usr/local/lib/python3.7/dist-packages/ipykernel_launcher.py:3: RuntimeWarning: overflow encountered in exp\n",
            "  This is separate from the ipykernel package so we can avoid doing imports until\n"
          ],
          "name": "stderr"
        },
        {
          "output_type": "stream",
          "text": [
            "Accuracy: 0.9207\n"
          ],
          "name": "stdout"
        }
      ]
    },
    {
      "cell_type": "markdown",
      "metadata": {
        "id": "qWlWE84EglQp"
      },
      "source": [
        "- 0 ~ 1의 범위로 만드는것 -> 정규화 (max 값을 나누면 됨)\r\n",
        "- 신경망의 입력 데이터에 특정 변환을 가하는 것 -> 전처리\r\n",
        "- 배치 (batch)\r\n",
        "  - 여러개의 입력 데이터를 하나로 묶은 것(묶음)\r\n",
        "  - 수치 계산 라이브러리들은 큰 배열을 효율적으로 처리할 수 있어서 사용\r\n",
        "  - 커다란 신경망에서는 데이터 전송이 병목으로 작용하는 경우가 자주 있어, 배치 처리를 함으로써 버스에 주는 부하를 줄일 수 있어 사용\r\n",
        "  - 큰 배열을 한꺼번에 처리하는 것이 분할된 작은 배열을 여러 번 처리하는 것 보다 빠름"
      ]
    },
    {
      "cell_type": "code",
      "metadata": {
        "colab": {
          "base_uri": "https://localhost:8080/"
        },
        "collapsed": true,
        "id": "4zAVYwCjlOHP",
        "outputId": "311bef66-e5e6-479c-bc75-0a2e87b26a6d"
      },
      "source": [
        "batch_size = 100 # 배치 크기\r\n",
        "accuracy_cnt = 0\r\n",
        "\r\n",
        "for i in range(0, len(x), batch_size):\r\n",
        "  x_batch = x[i:i + batch_size]\r\n",
        "  y_batch = predict(network, x_batch)\r\n",
        "  p = np.argmax(y_batch, axis=1)\r\n",
        "  accuracy_cnt += np.sum(p == t[i: i + batch_size])\r\n",
        "\r\n",
        "print(\"Accurary: \" + str(float(accuracy_cnt) / len(x)))"
      ],
      "execution_count": null,
      "outputs": [
        {
          "output_type": "stream",
          "text": [
            "Accurary: 0.9207\n"
          ],
          "name": "stdout"
        },
        {
          "output_type": "stream",
          "text": [
            "/usr/local/lib/python3.7/dist-packages/ipykernel_launcher.py:3: RuntimeWarning: overflow encountered in exp\n",
            "  This is separate from the ipykernel package so we can avoid doing imports until\n"
          ],
          "name": "stderr"
        }
      ]
    },
    {
      "cell_type": "markdown",
      "metadata": {
        "id": "tcUcEfStqfVS"
      },
      "source": [
        "## 신경망 학습\r\n",
        "\r\n",
        "- 학습: 훈련 데이터로부터 가중치 매개변수의 최적값을 자동으로 획득하는 것\r\n",
        "- 손실 함수: 신경망이 학습할 수 있도록 해주는 지표\r\n",
        "- 경사법: 여기서는 손실 함수의 값을 가급적 작게 만드는 기법으로, 함수의 기울기를 활용함\r\n",
        "- 특징(feature): 이미지에서 특징을 추출하고 그 특징의 패턴을 기계학습 기술로 학습시킴\r\n",
        "  - 입력 데이터(입력 이미지)에서 본질적인 데이터(중요한 데이터)를 정확하게 추출할 수 있도록 설계된 변환기\r\n",
        "  - 이미지의 특징은 보통 ***벡터***로 기술하고, 컴퓨터 비전 분야에서는 ***SIFT, SURF, HOG*** 등의 특징을 사용\r\n",
        "  - 이런 특징을 사용하여 이미지 데이터를 벡터로 변환, 변환된 벡터로 ***지도 학습 방시***의 대표 분류 기법인 ***SVM, KNN*** 등으로 학습\r\n",
        "  - 벡터로 변환할 때 사용하는 특징은 여전히 ***사람***이 설계\r\n",
        "  - 그러므로 문제에 ***적합한 특징***을 쓰지 않으면 좋은 결과를 못 얻음\r\n",
        "  - 사람이 적절한 특징을 생각해야 함\r\n",
        "- 신경망은 사람이 개입하지 않고 기계가 이미지를 ***있는 그대로*** 이미지에 포함된 중요한 특징까지 학습함\r\n",
        "  - 종단간 기계학습 = 딥러닝 이라고도 함(end-to-end)\r\n",
        "- 훈련데이터와 시험 데이터\r\n",
        "  - 우선 훈련 데이터만 사용하여 학습하면서 최적의 매개변수를 찾음\r\n",
        "  - 다음 시험 데이터를 사용해 앞서 훈련한 모델의 실력을 평가\r\n",
        "- 범용 능력: 아직 보지 못한 데이터(훈련 데이터에 포함되지 않는 데이터)로도 문제를 올바르게 풀어내는 능력\r\n",
        "- 오버 피팅(overfitting): 한 데이터셋에만 지나치게 최적화된 상태 -> 피해야 하는게 중요한 과제"
      ]
    },
    {
      "cell_type": "markdown",
      "metadata": {
        "id": "V0RdGLh87pzY"
      },
      "source": [
        "### 손실 함수\n",
        "- 현재의 상태를 ***하나의 지표***로 표현"
      ]
    }
  ]
}
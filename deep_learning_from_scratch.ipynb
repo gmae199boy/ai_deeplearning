{
  "nbformat": 4,
  "nbformat_minor": 0,
  "metadata": {
    "colab": {
      "name": "deep learning from scratch.ipynb",
      "provenance": [],
      "collapsed_sections": [
        "y-rJ4vukltLH",
        "EVZ-j4-UlkRg"
      ],
      "toc_visible": true,
      "mount_file_id": "1rs8cJYYhjxJztqtzsvRgikqrgLS52eEQ",
      "authorship_tag": "ABX9TyOSjdnF++CurMCoZriVi6M+",
      "include_colab_link": true
    },
    "kernelspec": {
      "name": "python3",
      "display_name": "Python 3"
    }
  },
  "cells": [
    {
      "cell_type": "markdown",
      "metadata": {
        "id": "view-in-github",
        "colab_type": "text"
      },
      "source": [
        "<a href=\"https://colab.research.google.com/github/gmae199boy/ai_deeplearning/blob/main/deep_learning_from_scratch.ipynb\" target=\"_parent\"><img src=\"https://colab.research.google.com/assets/colab-badge.svg\" alt=\"Open In Colab\"/></a>"
      ]
    },
    {
      "cell_type": "markdown",
      "metadata": {
        "id": "DWpZja7LNGCp"
      },
      "source": [
        "# 밑바닥부터 시작하는 딥러닝\n"
      ]
    },
    {
      "cell_type": "code",
      "metadata": {
        "colab": {
          "base_uri": "https://localhost:8080/"
        },
        "id": "VtTfAmSxlJEZ",
        "outputId": "67942eb8-1451-4740-ac1f-0ce8c3cbff0e"
      },
      "source": [
        "%cd drive/MyDrive/deep-learning/"
      ],
      "execution_count": 3,
      "outputs": [
        {
          "output_type": "stream",
          "text": [
            "/content/drive/MyDrive/deep-learning\n"
          ],
          "name": "stdout"
        }
      ]
    },
    {
      "cell_type": "markdown",
      "metadata": {
        "id": "y-rJ4vukltLH"
      },
      "source": [
        "## 퍼셉트론\r\n",
        "- 가중치와 편향\r\n",
        "  - 세타에 -b를 넣으면 x1w1 + x2w2 + b <= 0 == 0, x1w1 + x2w2 + b > 0 == 1이 된다\r\n",
        "- 퍼셉트론은 직선만 그릴 수 있으므로 XOR은 나타낼 수 없다 -> 비선형이기 때문에\r\n",
        "  - x1, x2가 NAND, OR 게이트에 입력되고, NAND, OR의 출력이 AND로 입력되면 XOR게이트 완성\r\n",
        "  - 다층 퍼셉트론"
      ]
    },
    {
      "cell_type": "code",
      "metadata": {
        "id": "ouxS9mMpNR2v"
      },
      "source": [
        "import numpy as np\n",
        "import matplotlib.pyplot as plt\n",
        "\n",
        "\n",
        "# 이 값이 0보다 작거나 같으면 0, 크면 1\n",
        "def AND(x1, x2):\n",
        "  x = np.array([x1, x2])\n",
        "  w = np.array([0.5, 0.5])\n",
        "  b = -0.7\n",
        "  tmp = np.sum(w*x) + b\n",
        "  if tmp <= 0:\n",
        "    return 0\n",
        "  else:\n",
        "    return 1\n",
        "\n",
        "def NAND(x1, x2):\n",
        "  x = np.array([x1, x2])\n",
        "  w = np.array([-0.5, -0.5]) # AND와는 가중치(x, b)만 다르다\n",
        "  b = 0.7\n",
        "  tmp = np.sum(w*x) + b\n",
        "  if tmp <= 0:\n",
        "    return 0\n",
        "  else:\n",
        "    return 0\n",
        "\n",
        "def OR(x1, x2):\n",
        "  x = np.array([x1, x2])\n",
        "  w = np.array([0.5, 0.5])\n",
        "  b = -0.2\n",
        "  tmp = np.sum(w*x) + b\n",
        "  if tmp <= 0:\n",
        "    return 0\n",
        "  else:\n",
        "    return 1\n",
        "\n",
        "def XOR(x1, x2):\n",
        "  s1 = NAND(x1, x2)\n",
        "  s2 = OR(x1, x2)\n",
        "  y = AND(s1, s2)\n",
        "  return y\n",
        "  "
      ],
      "execution_count": null,
      "outputs": []
    },
    {
      "cell_type": "markdown",
      "metadata": {
        "id": "EVZ-j4-UlkRg"
      },
      "source": [
        "## 신경망\r\n",
        "- 퍼셉트론의 단점(가중치를 수동으로 설정)을 자동으로 학습하게 해주는것\r\n",
        "- 활성화 함수 (activation function)\r\n",
        "  -  y = h(b + w1x1 + w2x2)\r\n",
        "  - h(x) = 0 (x <= 0), 1 (x > 0)\r\n",
        "  - h(x)를 활성화 함수라 한다\r\n",
        "  - a = b + w1x1 + w2x2, y = h(a)\r\n",
        "  - 신경망의 동작을 더명확히 드러내고자 할 때는 활성화 처리과정을 노드에 그린다\r\n",
        "- 계단 함수 (step function)\r\n",
        "  - 임계값을 경계로 출력이 바뀌는 함수 (활성화 함수)\r\n",
        "  - 그래서 퍼셉트론에서는 활성화 함수로 계단 함수를 이용한다\r\n",
        "- 활성화 함수는 여러 함수중 계단 함수를 사용하고 있음\r\n",
        "- 활성화 함수를 계단 함수에서 다른 함수로 변경하는 것이 신경망의 세계로 가는 길\r\n",
        "- 시그모이드 함수 (sigmoid function)\r\n",
        "  - h(x) = 1 / 1 + exp(-x)\r\n",
        "  - 신경망에서는 활성화 함수로 시그모이드 함수를 사용해 신호를 변환, 다음 뉴런에 전달\r\n",
        "  - 퍼셉트론과 신경망의 주된 차이는 활성화 함수가 다르다는 것 뿐"
      ]
    },
    {
      "cell_type": "code",
      "metadata": {
        "colab": {
          "base_uri": "https://localhost:8080/",
          "height": 265
        },
        "id": "_F9knV6Kqz7i",
        "outputId": "8c8087ba-88e2-42ab-d11d-d97eccb22ab1"
      },
      "source": [
        "# 계단 함수\n",
        "# def step_function(x):\n",
        "#   if x > 0:\n",
        "#     return 1\n",
        "#   else:\n",
        "#     return 0\n",
        "\n",
        "def step_function(x):\n",
        "  return np.array(x > 0, dtype = np.int)\n",
        "\n",
        "x = np.arange(-5.0, 5.0, 0.1)\n",
        "y = step_function(x)\n",
        "plt.plot(x, y)\n",
        "plt.ylim(-0.1, 1.1) # y축의 범위 지정\n",
        "plt.show()\n"
      ],
      "execution_count": null,
      "outputs": [
        {
          "output_type": "display_data",
          "data": {
            "image/png": "[encoded data removed]",
            "text/plain": [
              "<Figure size 432x288 with 1 Axes>"
            ]
          },
          "metadata": {
            "tags": [],
            "needs_background": "light"
          }
        }
      ]
    },
    {
      "cell_type": "markdown",
      "metadata": {
        "id": "OSBKdF-Fs6md"
      },
      "source": [
        "- 이렇게 생겼기 때문에 계단 함수라 불림"
      ]
    },
    {
      "cell_type": "code",
      "metadata": {
        "colab": {
          "base_uri": "https://localhost:8080/",
          "height": 265
        },
        "id": "qRKc0qTRtEhE",
        "outputId": "e4336e64-4e7f-4d9d-afbd-709fdc6e1e65"
      },
      "source": [
        "# 시그모이드 함수\n",
        "def sigmoid(x):\n",
        "  return 1 / (1 + np.exp(-x))\n",
        "\n",
        "x = np.arange(-5.0, 5.0, 0.1)\n",
        "y = sigmoid(x)\n",
        "plt.plot(x, y)\n",
        "plt.ylim(-0.1, 1.1) # y축의 범위 지정\n",
        "plt.show()"
      ],
      "execution_count": null,
      "outputs": [
        {
          "output_type": "display_data",
          "data": {
            "image/png": "[encoded data removed]",
            "text/plain": [
              "<Figure size 432x288 with 1 Axes>"
            ]
          },
          "metadata": {
            "tags": [],
            "needs_background": "light"
          }
        }
      ]
    },
    {
      "cell_type": "code",
      "metadata": {
        "colab": {
          "base_uri": "https://localhost:8080/",
          "height": 265
        },
        "id": "cjb2is5OvGaX",
        "outputId": "d638de24-61ee-46ca-91d3-77e6e7727168"
      },
      "source": [
        "x = np.arange(-5.0, 5.0, 0.1)\n",
        "y = step_function(x)\n",
        "plt.plot(x, y, linestyle=\"--\")\n",
        "y = sigmoid(x)\n",
        "plt.plot(x, y)\n",
        "plt.ylim(-0.1, 1.1) # y축의 범위 지정\n",
        "plt.show()"
      ],
      "execution_count": null,
      "outputs": [
        {
          "output_type": "display_data",
          "data": {
            "image/png": "[encoded data removed]",
            "text/plain": [
              "<Figure size 432x288 with 1 Axes>"
            ]
          },
          "metadata": {
            "tags": [],
            "needs_background": "light"
          }
        }
      ]
    },
    {
      "cell_type": "markdown",
      "metadata": {
        "id": "PnxZhhR6vaW0"
      },
      "source": [
        "- 시그모이드의 이런 입력에 따라 출력이 연속적으로 변화하는 매끄러움이 신경망 학습에서 ***아주 중요***하다\n",
        "- 퍼셉트론에선 0 ,1이 흘렀다면 신경망에서는 연속적인 실수가 흐른다\n",
        "- 둘 다 입력이 커지면 출력이 1에 가까워지고 반대인 경우는 0에 가까워지고 0, 1사이의 값만 반환한다는 것이 공통점\n",
        "- 둘 다 비선형 함수이다\n",
        "- 신경망은 층을 깊게 해야 하기 때문에 선형함수를 사용할 수 없다\n",
        " "
      ]
    },
    {
      "cell_type": "markdown",
      "metadata": {
        "id": "M9zIjM0fxe7b"
      },
      "source": [
        "- ReLU (rectified Linear Unit, 렐루) 함수\n",
        "  - 시그모이드는 오래전부터 사용해왔으나, 최근에는 렐루를 주로 사용함\n",
        "  - 렐루는 입력이 0을 넘으면 그 입력을 그대로 출력하고, 0 이하이면 0을 출력한다\n",
        "  - h(x) = x (x > 0), 0 (x <= 0)\n"
      ]
    },
    {
      "cell_type": "code",
      "metadata": {
        "id": "akIkx5lBx_kF"
      },
      "source": [
        "# ReLU 함수\n",
        "def relu(x):\n",
        "  return np.maximum(0, x) # maximum은 두 입력 값 중 큰 값을 반환\n",
        "\n",
        "# np.ndim(x) -> 배열의 차원 수"
      ],
      "execution_count": null,
      "outputs": []
    },
    {
      "cell_type": "markdown",
      "metadata": {
        "id": "hUyKbvjk4EtI"
      },
      "source": [
        "- 3층 신경망"
      ]
    },
    {
      "cell_type": "code",
      "metadata": {
        "colab": {
          "base_uri": "https://localhost:8080/"
        },
        "id": "KKvAPdQp4HVL",
        "outputId": "95fa9eb5-84bf-4a03-ce0e-eafec9a754ef"
      },
      "source": [
        "X = np.array([1.0, 0.5])\n",
        "W1 = np.array([[0.1, 0.3, 0.5], [0.2, 0.4, 0.6]])\n",
        "B1 = np.array([0.1, 0.2, 0.3])\n",
        "\n",
        "A1 = np.dot(X, W1) + B1\n",
        "\n",
        "Z1 = sigmoid(A1)\n",
        "\n",
        "print(Z1) # 1층\n",
        "\n",
        "W2 = np.array([[0.1, 0.4], [0.2, 0.5], [0.3, 0.6]])\n",
        "B2 = np.array([0.1, 0.2])\n",
        "\n",
        "A2 = np.dot(Z1, W2) + B2\n",
        "Z2 = sigmoid(A2)\n",
        "\n",
        "print(Z2) # 2층\n",
        "\n",
        "# 항등 함수\n",
        "def identity_function(x):\n",
        "  return x\n",
        "\n",
        "W3 = np.array([[0.1, 0.3], [0.2, 0.4]])\n",
        "B3 = np.array([0.1, 0.2])\n",
        "\n",
        "A3 = np.dot(Z2, W3) + B3\n",
        "\n",
        "y = identity_function(A3)\n",
        "print(y)"
      ],
      "execution_count": null,
      "outputs": [
        {
          "output_type": "stream",
          "text": [
            "[0.57444252 0.66818777 0.75026011]\n",
            "[0.62624937 0.7710107 ]\n",
            "[0.31682708 0.69627909]\n"
          ],
          "name": "stdout"
        }
      ]
    },
    {
      "cell_type": "markdown",
      "metadata": {
        "id": "tOSLBpBS56AU"
      },
      "source": [
        "- 출력층의 활성화 함수는 풀고자 하는 문제의 성질에 맞게 정함\n",
        "  - 회귀 -> 항등 함수\n",
        "  - 2클래스 분류 -> 시그모이드\n",
        "  - 다중클래스 -> 소프트맥스\n",
        "\n",
        "### 정리"
      ]
    },
    {
      "cell_type": "code",
      "metadata": {
        "colab": {
          "base_uri": "https://localhost:8080/"
        },
        "id": "HBEhiQ9ZOgD2",
        "outputId": "b649c226-2fbe-418d-b57a-e271cc9cbffb"
      },
      "source": [
        "def init_network():\n",
        "  network = {}\n",
        "  network['W1'] = np.array([[0.1, 0.3, 0.5], [0.2, 0.4, 0.6]])\n",
        "  network['b1'] = np.array([0.1, 0.2, 0.3])\n",
        "  network['W2'] = np.array([[0.1, 0.4], [0.2, 0.5], [0.3, 0.6]])\n",
        "  network['b2'] = np.array([0.1, 0.2])\n",
        "  network['W3'] = np.array([[0.1, 0.3], [0.2, 0.4]])\n",
        "  network['b3'] = np.array([0.1, 0.2])\n",
        "\n",
        "  return network\n",
        "\n",
        "# backward(역방향)도 있음\n",
        "# forward는 (순방향)\n",
        "def forward(network, x):\n",
        "  W1, W2, W3 = network['W1'], network['W2'], network['W3']\n",
        "  b1, b2, b3 = network['b1'], network['b2'], network['b3']\n",
        "\n",
        "  a1 = np.dot(x, W1) + b1\n",
        "  z1 = sigmoid(a1)\n",
        "  a2 = np.dot(z1, W2) + b2\n",
        "  z2 = sigmoid(a2)\n",
        "  a3 = np.dot(z2, W3) + b3\n",
        "  y = identity_function(a3)\n",
        "\n",
        "  return y\n",
        "\n",
        "network = init_network()\n",
        "x = np.array([1.0, 0.5])\n",
        "y = forward(network, x)\n",
        "print(y)"
      ],
      "execution_count": null,
      "outputs": [
        {
          "output_type": "stream",
          "text": [
            "[0.31682708 0.69627909]\n"
          ],
          "name": "stdout"
        }
      ]
    },
    {
      "cell_type": "markdown",
      "metadata": {
        "id": "C-DTOfwrRfNc"
      },
      "source": [
        "- 소프트맥스 함수 (softmax function)\n",
        "  - 오버플로우의 문제가 있다\n",
        "  - 분수에 상수 C를 곱하면 결과는 결국 같기 때문에 ak에 c를 더한다\n",
        "  - 입력 신호 중 최댓값을 대입한다\n",
        "  - 소프트맥스의 출력 총합은 항상 1이다. 그래서 출력을 ***확률***로 해석할 수 있다\n",
        "  - 소프트맥스를 적용해도 원소간의 대소관계는 변하지 않는다. a에서 2번째 원소가 제일 크다면 y에서 제일 큰 원소도 2번째이다. 그래서 신경망으로 분류를 할때는 출력층의 소프트맥스 함수를 생략해도 된다.\n",
        "  - 학습과 추론 단계가 있는데, 추론 단계에서는 함수를 생략하는 것이 일반적이지만 학습시킬 때에는 출력층에서 함수를 사용한다."
      ]
    },
    {
      "cell_type": "code",
      "metadata": {
        "id": "7LMWCa8VTBbE"
      },
      "source": [
        "# 오버플로우를 염두에 두지 않은 식\n",
        "def softmax_function(a):\n",
        "  exp_a = np.exp(a)\n",
        "  sum_exp_a = np.sum(exp_a)\n",
        "  y = exp_a / sum_exp_a\n",
        "\n",
        "  return y"
      ],
      "execution_count": null,
      "outputs": []
    },
    {
      "cell_type": "code",
      "metadata": {
        "id": "ytFMCzPYUFcf"
      },
      "source": [
        "# 오버플로우를 막는 식\n",
        "def softmax(a):\n",
        "  c = np.max(a)\n",
        "  exp_a = np.exp(a - c)\n",
        "  sum_exp_a = np.sum(exp_a)\n",
        "  y = exp_a / sum_exp_a\n",
        "\n",
        "  return y"
      ],
      "execution_count": null,
      "outputs": []
    },
    {
      "cell_type": "markdown",
      "metadata": {
        "id": "piQKwd6HdmXS"
      },
      "source": [
        "- 출력층의 뉴런 수\n",
        "  - 분류에서는 분류하고 싶은 클래스 수로 설정하는 것이 일반적\n",
        "  - 밑의 예는 입력층 뉴런이 784개 이다. 이는 이미지 크기가 28 * 28 = 784 이기 때문이다.\n",
        "  - 출력층은 10개 이다. 숫자 0 ~ 9까지를 구분하는 문제이기 때문.\n",
        "  - 은닉층은 2개로 첫 번째 은닉층은 50개의 뉴런, 두 번째는 100개의 뉴런. 이것은 임의로 정한 값"
      ]
    },
    {
      "cell_type": "code",
      "metadata": {
        "id": "zgGnp79jm9uo"
      },
      "source": [
        "import sys, os\n",
        "sys.path.append(os.pardir) # 부모 디렉터리의 파일을 가져올 수 있도록 설정\n",
        "from dataset.mnist import load_mnist\n",
        "from PIL import Image\n",
        "import pickle\n",
        "\n",
        "def get_data():\n",
        "  (x_train, t_train), (x_test, t_test) = \\\n",
        "    load_mnist(flatten=True, normalize=False, one_hot_label=False)\n",
        "  return x_test, t_test\n",
        "\n",
        "def init_network():\n",
        "  with open(\"ch03/sample_weight.pkl\", 'rb') as f:\n",
        "    network = pickle.load(f)\n",
        "  return network\n",
        "\n",
        "def predict(network, x):\n",
        "  W1, W2, W3 = network['W1'], network['W2'], network['W3']\n",
        "  b1, b2, b3 = network['b1'], network['b2'], network['b3']\n",
        "\n",
        "  a1 = np.dot(x, W1) + b1\n",
        "  z1 = sigmoid(a1)\n",
        "  a2 = np.dot(z1, W2) + b2\n",
        "  z2 = sigmoid(a2)\n",
        "  a3 = np.dot(z2, W3) + b3\n",
        "  y = softmax(a3)\n",
        "\n",
        "  return y"
      ],
      "execution_count": null,
      "outputs": []
    },
    {
      "cell_type": "code",
      "metadata": {
        "colab": {
          "base_uri": "https://localhost:8080/",
          "height": 99
        },
        "id": "3pS8lqep4q-D",
        "outputId": "e194db7a-9f97-4bc6-965d-21b48aee4fff"
      },
      "source": [
        "def img_show(img):\r\n",
        "    pil_img = Image.fromarray(np.uint8(img))\r\n",
        "    # 이건 일반 용\r\n",
        "    # pil_img.show()\r\n",
        "\r\n",
        "    # 이건 구글 코랩용\r\n",
        "    display(pil_img)\r\n",
        "\r\n",
        "img = x_train[0]\r\n",
        "label = t_train[0]\r\n",
        "print(label)  # 5\r\n",
        "\r\n",
        "print(img.shape)  # (784,)\r\n",
        "img = img.reshape(28, 28)  # 형상을 원래 이미지의 크기로 변형\r\n",
        "print(img.shape)  # (28, 28)\r\n",
        "\r\n",
        "img_show(img)\r\n",
        "# plt.imshow(img)\r\n",
        "# plt.show()\r\n"
      ],
      "execution_count": null,
      "outputs": [
        {
          "output_type": "stream",
          "text": [
            "5\n",
            "(784,)\n",
            "(28, 28)\n"
          ],
          "name": "stdout"
        },
        {
          "output_type": "display_data",
          "data": {
            "image/png": "[encoded data removed]",
            "text/plain": [
              "<PIL.Image.Image image mode=L size=28x28 at 0x7F10CD182710>"
            ]
          },
          "metadata": {
            "tags": []
          }
        }
      ]
    },
    {
      "cell_type": "code",
      "metadata": {
        "colab": {
          "base_uri": "https://localhost:8080/"
        },
        "id": "Fq9gQ-OJ9BrO",
        "outputId": "d67198e5-e499-4d1d-f525-a294636dc127"
      },
      "source": [
        "x, t = get_data()\r\n",
        "network = init_network()\r\n",
        "\r\n",
        "accuracy_cnt = 0\r\n",
        "for i in range(len(x)):\r\n",
        "  y = predict(network, x[i])\r\n",
        "  p = np.argmax(y) # 확률이 가장 높은 원소의 인덱스를 얻는다\r\n",
        "  if p == t[i]:\r\n",
        "    accuracy_cnt += 1\r\n",
        "\r\n",
        "print(\"Accuracy: \" + str(float(accuracy_cnt) / len(x)))"
      ],
      "execution_count": null,
      "outputs": [
        {
          "output_type": "stream",
          "text": [
            "/usr/local/lib/python3.7/dist-packages/ipykernel_launcher.py:3: RuntimeWarning: overflow encountered in exp\n",
            "  This is separate from the ipykernel package so we can avoid doing imports until\n"
          ],
          "name": "stderr"
        },
        {
          "output_type": "stream",
          "text": [
            "Accuracy: 0.9207\n"
          ],
          "name": "stdout"
        }
      ]
    },
    {
      "cell_type": "markdown",
      "metadata": {
        "id": "qWlWE84EglQp"
      },
      "source": [
        "- 0 ~ 1의 범위로 만드는것 -> 정규화 (max 값을 나누면 됨)\r\n",
        "- 신경망의 입력 데이터에 특정 변환을 가하는 것 -> 전처리\r\n",
        "- 배치 (batch)\r\n",
        "  - 여러개의 입력 데이터를 하나로 묶은 것(묶음)\r\n",
        "  - 수치 계산 라이브러리들은 큰 배열을 효율적으로 처리할 수 있어서 사용\r\n",
        "  - 커다란 신경망에서는 데이터 전송이 병목으로 작용하는 경우가 자주 있어, 배치 처리를 함으로써 버스에 주는 부하를 줄일 수 있어 사용\r\n",
        "  - 큰 배열을 한꺼번에 처리하는 것이 분할된 작은 배열을 여러 번 처리하는 것 보다 빠름"
      ]
    },
    {
      "cell_type": "code",
      "metadata": {
        "colab": {
          "base_uri": "https://localhost:8080/"
        },
        "collapsed": true,
        "id": "4zAVYwCjlOHP",
        "outputId": "311bef66-e5e6-479c-bc75-0a2e87b26a6d"
      },
      "source": [
        "batch_size = 100 # 배치 크기\r\n",
        "accuracy_cnt = 0\r\n",
        "\r\n",
        "for i in range(0, len(x), batch_size):\r\n",
        "  x_batch = x[i:i + batch_size]\r\n",
        "  y_batch = predict(network, x_batch)\r\n",
        "  p = np.argmax(y_batch, axis=1)\r\n",
        "  accuracy_cnt += np.sum(p == t[i: i + batch_size])\r\n",
        "\r\n",
        "print(\"Accurary: \" + str(float(accuracy_cnt) / len(x)))"
      ],
      "execution_count": null,
      "outputs": [
        {
          "output_type": "stream",
          "text": [
            "Accurary: 0.9207\n"
          ],
          "name": "stdout"
        },
        {
          "output_type": "stream",
          "text": [
            "/usr/local/lib/python3.7/dist-packages/ipykernel_launcher.py:3: RuntimeWarning: overflow encountered in exp\n",
            "  This is separate from the ipykernel package so we can avoid doing imports until\n"
          ],
          "name": "stderr"
        }
      ]
    },
    {
      "cell_type": "markdown",
      "metadata": {
        "id": "tcUcEfStqfVS"
      },
      "source": [
        "## 신경망 학습\r\n",
        "\r\n",
        "- 학습: 훈련 데이터로부터 가중치 매개변수의 최적값을 자동으로 획득하는 것\r\n",
        "- 손실 함수: 신경망이 학습할 수 있도록 해주는 지표\r\n",
        "- 경사법: 여기서는 손실 함수의 값을 가급적 작게 만드는 기법으로, 함수의 기울기를 활용함\r\n",
        "- 특징(feature): 이미지에서 특징을 추출하고 그 특징의 패턴을 기계학습 기술로 학습시킴\r\n",
        "  - 입력 데이터(입력 이미지)에서 본질적인 데이터(중요한 데이터)를 정확하게 추출할 수 있도록 설계된 변환기\r\n",
        "  - 이미지의 특징은 보통 ***벡터***로 기술하고, 컴퓨터 비전 분야에서는 ***SIFT, SURF, HOG*** 등의 특징을 사용\r\n",
        "  - 이런 특징을 사용하여 이미지 데이터를 벡터로 변환, 변환된 벡터로 ***지도 학습 방시***의 대표 분류 기법인 ***SVM, KNN*** 등으로 학습\r\n",
        "  - 벡터로 변환할 때 사용하는 특징은 여전히 ***사람***이 설계\r\n",
        "  - 그러므로 문제에 ***적합한 특징***을 쓰지 않으면 좋은 결과를 못 얻음\r\n",
        "  - 사람이 적절한 특징을 생각해야 함\r\n",
        "- 신경망은 사람이 개입하지 않고 기계가 이미지를 ***있는 그대로*** 이미지에 포함된 중요한 특징까지 학습함\r\n",
        "  - 종단간 기계학습 = 딥러닝 이라고도 함(end-to-end)\r\n",
        "- 훈련데이터와 시험 데이터\r\n",
        "  - 우선 훈련 데이터만 사용하여 학습하면서 최적의 매개변수를 찾음\r\n",
        "  - 다음 시험 데이터를 사용해 앞서 훈련한 모델의 실력을 평가\r\n",
        "- 범용 능력: 아직 보지 못한 데이터(훈련 데이터에 포함되지 않는 데이터)로도 문제를 올바르게 풀어내는 능력\r\n",
        "- 오버 피팅(overfitting): 한 데이터셋에만 지나치게 최적화된 상태 -> 피해야 하는게 중요한 과제"
      ]
    },
    {
      "cell_type": "markdown",
      "metadata": {
        "id": "V0RdGLh87pzY"
      },
      "source": [
        "### 손실 함수\n",
        "- 현재의 상태를 ***하나의 지표***로 표현\n",
        "- 그 지표를 가장 좋게 만들어주는 가중치 매개변수의 값을 탐색하는 것\n",
        "- ***하나의 지표***를 기준으로 최적의 매개변수 값을 탐색\n",
        "- 신경망에서 사용하는 치표는 ***손실 함수***\n",
        "  - 임의의 한수를 사용할 수 있지만 일반적으로 ***오차제곱합***과 ***교차 엔트로피***를 사용함\n",
        "  - 손실 함수는 신경망 성능의 ***나쁨***을 나타내는 지표\n",
        "  - 마이너스를 곱하면 좋음으로 됨\n",
        "\n",
        "#### 오차제곱합 (sum of squares for errer, SSE)\n",
        "- 가장 많이 쓰임\n",
        "- 정답으로 원 핫 인코딩을 씀"
      ]
    },
    {
      "cell_type": "code",
      "metadata": {
        "colab": {
          "base_uri": "https://localhost:8080/"
        },
        "id": "tz44oexqwNxA",
        "outputId": "0a7c3173-2293-42fc-a8cb-c9ab45287222"
      },
      "source": [
        "import numpy as np\n",
        "\n",
        "def sum_squares_error(y, t):\n",
        "  return 0.5 * np.sum((y - t) ** 2)\n",
        "\n",
        "# 정답은 2\n",
        "t = [0, 0, 1, 0, 0, 0, 0, 0, 0, 0]\n",
        "# 예1 : 2 일 확률이 가장 높다고 추정함\n",
        "y = [0.1, 0.05, 0.6, 0.0, 0.05, 0.1, 0.0, 0.1, 0.0, 0.0]\n",
        "print(sum_squares_error(np.array(y), np.array(t)))\n",
        "\n",
        "# 예2 : 7 일 확률이 가장 높다고 추정함\n",
        "y = [0.1, 0.05, 0.1, 0.0, 0.05, 0.1, 0.0, 0.6, 0.0, 0.0]\n",
        "print(sum_squares_error(np.array(y), np.array(t)))"
      ],
      "execution_count": 7,
      "outputs": [
        {
          "output_type": "stream",
          "text": [
            "0.09750000000000003\n",
            "0.5975\n"
          ],
          "name": "stdout"
        }
      ]
    },
    {
      "cell_type": "markdown",
      "metadata": {
        "id": "jzMgpIlSxK2T"
      },
      "source": [
        "- 정답에 가까울수록 오차가 더 적다"
      ]
    },
    {
      "cell_type": "markdown",
      "metadata": {
        "id": "gWC7EQ8ByKwR"
      },
      "source": [
        "#### 교차 엔트로피 오차\n",
        "- 정답으로 원 합 인코딩을 씀\n",
        "- 정답일 때의 출력이 전체 값을 정함"
      ]
    },
    {
      "cell_type": "code",
      "metadata": {
        "colab": {
          "base_uri": "https://localhost:8080/"
        },
        "id": "zYBjHbKh0nI2",
        "outputId": "c58c5896-f74d-4191-ab1d-5e52878df6e3"
      },
      "source": [
        "def cross_entropy_error(y, t):\n",
        "  delta = 1e-7\n",
        "  return -np.sum(t * np.log(y + delta))\n",
        "\n",
        "# 정답은 2\n",
        "t = [0, 0, 1, 0, 0, 0, 0, 0, 0, 0]\n",
        "y = [0.1, 0.05, 0.6, 0.0, 0.05, 0.1, 0.0, 0.1, 0.0, 0.0]\n",
        "print(cross_entropy_error(np.array(y), np.array(t)))\n",
        "\n",
        "y = [0.1, 0.05, 0.1, 0.0, 0.05, 0.1, 0.0, 0.6, 0.0, 0.0]\n",
        "print(cross_entropy_error(np.array(y), np.array(t)))"
      ],
      "execution_count": 9,
      "outputs": [
        {
          "output_type": "stream",
          "text": [
            "0.510825457099338\n",
            "2.302584092994546\n"
          ],
          "name": "stdout"
        }
      ]
    },
    {
      "cell_type": "markdown",
      "metadata": {
        "id": "GLxvNuWi1Z7a"
      },
      "source": [
        "- 이것도 오차가 적을수록 정답일 가능성이 높다"
      ]
    },
    {
      "cell_type": "markdown",
      "metadata": {
        "id": "_uC0-JzI1xs2"
      },
      "source": [
        "#### 미니배치 학습\n",
        "- 훈련 데이터가 100개 있으면 그로부터 계산한 100개의 손실 함수 값들의 합을 지표로 삼음\n",
        "- 평균 손실 함수: 교차 엔트로피 오차 식에서 단순히 N으로 나눠 정규화를 함\n",
        "  - 훈련 데이터의 갯수에 상관없이 통일된 지표를 얻음\n",
        "- 너무 많은 데이터를 손실함수로 계산하는 것은 비현실적\n",
        "  - 미니배치 학습: 데이터의 일부를 추려 전체의 ***근사치***로 이용"
      ]
    },
    {
      "cell_type": "code",
      "metadata": {
        "id": "bZG1XPvv3O2S"
      },
      "source": [
        "import sys, os\n",
        "sys.path.append(os.pardir)\n",
        "from dataset.mnist import load_mnist\n",
        "import numpy as np\n",
        "\n",
        "(x_train, t_train), (x_test, t_test) = \\\n",
        "  load_mnist(flatten=True, normalize=False, one_hot_label=False)\n",
        "\n",
        "train_size = x_train.shape[0]\n",
        "batch_size = 10\n",
        "batch_mask = np.random.choice(train_size, batch_size)\n",
        "x_batch = x_train[batch_mask]\n",
        "t_batch = t_train[batch_mask]"
      ],
      "execution_count": 10,
      "outputs": []
    },
    {
      "cell_type": "code",
      "metadata": {
        "id": "5OFiQt8s4QmQ"
      },
      "source": [
        "# 배치용 교차 엔트로피 오차 함수\n",
        "def cross_entropy_error(y, t):\n",
        "  if y.ndim == 1:\n",
        "    t = t.reshape(1, t.size)\n",
        "    y = y.reshape(1, y.size)\n",
        "\n",
        "  batch_size = y.shape[0]\n",
        "  return -np.sum(t * np.log(y + 1e-7)) / batch_size\n",
        "\n",
        "# 원 핫 인코딩이 아닌 숫자 레이블이 제공된 교차 엔트로피 오차 함수\n",
        "# def cross_entropy_error(y, t):\n",
        "#   if y.ndim == 1:\n",
        "#     t = t.reshape(1, t.size)\n",
        "#     y = y.reshape(1, y.size)\n",
        "\n",
        "#   batch_size = y.shape[0]\n",
        "#   return -np.sum(np.log(y[np.arange(batch_size), t] + 1e-7)) / batch_size\n",
        "\n"
      ],
      "execution_count": null,
      "outputs": []
    },
    {
      "cell_type": "markdown",
      "metadata": {
        "id": "j3WtX6xA5sZG"
      },
      "source": [
        "#### 왜 손실 함수를 사용함?\n",
        "- ***정확도*** 지표를 두고 ***손실 함수의 값***을 쓰는 이유는 미분의 역할 때문\n",
        "- 최적의 매개변수를 탐색할 때 손실 함수의 값을 가능한 작게 하는 매개변수 값을 찾음\n",
        "- 이때 매개변수의 미분(정확히는 기울기)을 계산, 그 미분 값을 단서로 매개변수의 값을 서서히 갱신하는 과정을 반복\n",
        "- 가중치 매개변수의 손실 함수의 미분은 ***가중치 매개변수의 값을 아주 조금 변화 시켰을 때, 손실 함수가 어떻게 변하냐***\n",
        "- 만약 미분 값이 음수면 그 가중치 매개변수를 양의 방향으로 변화시켜 손실 함수의 값을 줄임 (반대로도)\n",
        "- 미분 값이 0이면 손실 함수의 값이 안변하기 때문에 가중치 매개변수의 갱신이 멈춤\n",
        "- ***신경망을 학습할 때 정확도를 지표로 하면 매개변수의 미분이 대부분의 장소에서 0이 된다.*** 그래서 정확도를 안씀"
      ]
    },
    {
      "cell_type": "markdown",
      "metadata": {
        "id": "_CbLJYvO74FA"
      },
      "source": [
        "#### 미분\n",
        "- 10분에 2KM를 달린 것은 ***평균*** 미분은 ***특정 순간의 변화량***\n",
        "- 미분은 한순간의 변화량을 표시\n",
        "- 반올림 오차: h를 무한히 0에 가깝게 구현할 수 없음\n",
        "- 오차를 줄이기 위해 ***중앙 차분***을 사용 f(x + h) - f(x - h)\n",
        "  - 이렇게 아주 작은 차분으로 미분하는 것을 ***수치 미분***이라 함\n",
        "  - 학교에서 배우는 미분은 ***진정한 미분*** 값을 구함 ***해석적으로 미분하다***"
      ]
    },
    {
      "cell_type": "code",
      "metadata": {
        "id": "ExeYE2FS8uPC"
      },
      "source": [
        "# 나쁜 구현의 예\n",
        "# 반올림 오차 10e-50 = 0.0\n",
        "def numerical_diff(f, x):\n",
        "  h = 10e-50\n",
        "  return (f(x + h) - f(x)) / h\n",
        "\n",
        "# 개선한 함수\n",
        "def numerical_diff(f, x):\n",
        "  h = 1e-4 # 0.0001\n",
        "  return (f(x + h) - f(x - h)) / (2 * h)\n"
      ],
      "execution_count": 13,
      "outputs": []
    },
    {
      "cell_type": "code",
      "metadata": {
        "colab": {
          "base_uri": "https://localhost:8080/",
          "height": 313
        },
        "id": "SKmSBbl2Bpgz",
        "outputId": "86ef85cc-3100-4442-d8ec-be0e572b11e8"
      },
      "source": [
        "import numpy as np\n",
        "import matplotlib.pyplot as plt\n",
        "\n",
        "# 수치 미분의 예\n",
        "def function_1(x):\n",
        "  return 0.01*x**2 + 0.1*x\n",
        "\n",
        "# 0에서 20까지 0.1 간격의 배열 x를 만듬\n",
        "x = np.arange(0.0, 20.0, 0.1)\n",
        "y = function_1(x)\n",
        "\n",
        "plt.xlabel('x')\n",
        "plt.ylabel('y')\n",
        "plt.plot(x, y)\n",
        "plt.show()\n",
        "\n",
        "print(numerical_diff(function_1, 5)) # 해석적 = 0.2\n",
        "print(numerical_diff(function_1, 10)) # 해석적 = 0.3"
      ],
      "execution_count": 14,
      "outputs": [
        {
          "output_type": "display_data",
          "data": {
            "image/png": "[encoded data removed]",
            "text/plain": [
              "<Figure size 432x288 with 1 Axes>"
            ]
          },
          "metadata": {
            "tags": [],
            "needs_background": "light"
          }
        },
        {
          "output_type": "stream",
          "text": [
            "0.1999999999990898\n",
            "0.2999999999986347\n"
          ],
          "name": "stdout"
        }
      ]
    },
    {
      "cell_type": "markdown",
      "metadata": {
        "id": "oiC0NmF8Cwuu"
      },
      "source": [
        "#### 편미분\n",
        "- 편미분: 변수가 여럿인 함수에 대한 미분"
      ]
    },
    {
      "cell_type": "code",
      "metadata": {
        "id": "lMKGgpdXC7EX"
      },
      "source": [
        "def function_2(x):\n",
        "  return x[0]**2 + x[1]**2 # return np.sum(x ** 2)\n"
      ],
      "execution_count": null,
      "outputs": []
    },
    {
      "cell_type": "markdown",
      "metadata": {
        "id": "DV8HNIYvD4iX"
      },
      "source": [
        "#### 기울기\n",
        "- 기울기: 모든 변수의 편미분을 벡터로 정리한 것\n",
        "- 편미분의 그래프는 3차원이기 때문에 기울기는 ***가장 낮은 장소***를 가리킴\n",
        "- 가장 낮은 곳에서 멀어질수록 화살표의 크기가 커짐\n",
        "- 기울기는 각 지점에서 낮아지는 방향을 가리킴\n",
        "- ***기울기가 가리키는 쪽은 각 장소에서 함수의 출력 값을 가장 크게 줄이는 방향***"
      ]
    },
    {
      "cell_type": "code",
      "metadata": {
        "id": "BGh_kg5OEQJK"
      },
      "source": [
        "def numerical_gradient(f, x):\n",
        "  h = 1e-4 # 0.0001\n",
        "  grad = np.zeros_like(x) # x와 형상이 같은 배열을 생성\n",
        "\n",
        "  for idx in range(x.size):\n",
        "    tmp_val = x[idx]\n",
        "    # f(x + h) 계산\n",
        "    x[idx] = tmp_val + h\n",
        "    fxh1 = f(x)\n",
        "\n",
        "    #f(x - h) 계싼\n",
        "    x[idx] = tmp_val - h\n",
        "    fxh2 = f(x)\n",
        "    grad[idx] = (fxh1 - fxh2) / (2 * h)\n",
        "    x[idx] = tmp_val # 값 복원\n",
        "\n",
        "  return grad"
      ],
      "execution_count": 15,
      "outputs": []
    },
    {
      "cell_type": "markdown",
      "metadata": {
        "id": "UrP_EJcpGoMp"
      },
      "source": [
        "#### 경사법 (경사 하강법)\n",
        "- 신경망은 최적의 매개변수를 학습 시에 찾아야함 (손실 함수가 최솟값이 될 때의 매개변수)\n",
        "- 매개변수 공간이 광대하여 어디가 최솟값이 되는 곳인지 짐작할 수 없다\n",
        "- 기울기를 잘 이용해 함수의 최솟값(또는 가능한 한 작은 값)을 찾으려는것이 ***경사법***\n",
        "- ***주의*** 각 지점에서 함수의 값을 낮추는 방안을 제시하는 지표가 기울기\n",
        "  - 그러나 기울기가 가리키는 곳에 정말 함수의 최솟값이 있는지, 즉 그쪽이 정말로 나아갈 방향인지 보장 못함\n",
        "  - 실제로 복잡한 함수에서는 기울기가 가리키는 방향에 최솟값이 없는 경우가 대부분\n",
        "  - 경사법은 기울기가 0인 장소를 찾지만 그것은 극솟값이나 안장점일 가능성이 있다\n",
        "  - 복잡하고 찌그러진 모양의 함수라면 평평한 곳으로 파고들면서 ***고원(plateau)***이라 하는 학습이 진행되지 않는 정체기에 빠질 수 있음\n",
        "- 그 방향으로 가야 함수의 값을 줄일 수 있다\n",
        "- 그래서 최솟값이 되는 장소를 찾는 문제(아니면 가능한 한 작은 값이 되는 장소를 찾는 문제)에서는 기울기 정보를 단서로 나아갈 방향을 정해야함    \n",
        "\n",
        "- 경사법은 현 위치에서 기울어진 방향으로 일정 거리만큼 이동함\n",
        "  - 그 다음 이동한 곳에서도 기울기를 구함\n",
        "  - 반복\n",
        "  - 이렇게 함수의 값을 점차 줄이는 것이 ***경사법***\n",
        "  - 경사법은 기계학습을 최적화하는 데 흔히 쓰는 방법\n",
        "  - 특히 신경망 학습에는 많이 사용\n",
        "  - 최솟값은 경사 하강법, 최댓값은 경사 상승법. 근데 - 붙이면 똑같음\n",
        "\n",
        "- 편미분의 값에 곱하는 n(에타)는 갱신하는 양 -> ***학습률***\n",
        "  - 학습률은 한 번의 학습으로 얼마만큼 학습해야 할지, 즉 매개변수 값을 얼마나 갱신하느냐를 정하는 것\n",
        "  - 학습률은 너무 크거나 작으면 ***좋은 장소***를 못찾음\n",
        "  - 신경망 학습에선 이 학습률 값을 변경하면서 올바르게 학습하고 있는지를 확인하면서 진행"
      ]
    },
    {
      "cell_type": "code",
      "metadata": {
        "id": "qKsnYdX4MYQR"
      },
      "source": [
        "def gradient_descent(f, init_x, lr = 0.01, step_num = 100):\n",
        "  x = init_x\n",
        "\n",
        "  for i in range(step_num):\n",
        "    grad = numerical_gradient(f, x)\n",
        "    x -= lr * grad\n",
        "  return x"
      ],
      "execution_count": null,
      "outputs": []
    },
    {
      "cell_type": "markdown",
      "metadata": {
        "id": "69qcfXaiMu-s"
      },
      "source": [
        "- f 는 최적화하려는 함수, init_x는 초깃값, lr은 학습률, step_num은 경사법에 따른 반복 횟수\n",
        "- 학습률 같은 매개변수를 ***하이퍼파라메터*** 라고 함\n",
        "  - 가중치와 편향 같은 신경망의 매개변수와는 성질이 다른 매개변수\n",
        "  - 가중치 매개변수는 자동으로 획득되지만 학습률 같은 하히퍼파라메터는 사람이 직접 설정해야 하기 때문\n",
        "\n",
        "- 데이터를 미니배치로 무작위로 선정하기 때문에 ***확률적 경사 하강법(stochastic gradient descent, SGD)***라고 함\n",
        "  - ***확률적으로 무작위로 골라낸 데이터***에 대해 수행하는 경사 하강법\n",
        "  - 대부분의 딥러닝 프레임위크는 확률적 경사 하강법인 SGD라는 함수로 이 기능을 구현 하고있음"
      ]
    },
    {
      "cell_type": "code",
      "metadata": {
        "id": "A2bW8W7HTHGU"
      },
      "source": [
        "# coding: utf-8\n",
        "# 2층 신경망\n",
        "import sys, os\n",
        "sys.path.append(os.pardir)  # 부모 디렉터리의 파일을 가져올 수 있도록 설정\n",
        "from common.functions import *\n",
        "from common.gradient import numerical_gradient\n",
        "\n",
        "\n",
        "class TwoLayerNet:\n",
        "\n",
        "    def __init__(self, input_size, hidden_size, output_size, weight_init_std=0.01):\n",
        "        # 가중치 초기화\n",
        "        self.params = {}\n",
        "        self.params['W1'] = weight_init_std * np.random.randn(input_size, hidden_size)\n",
        "        self.params['b1'] = np.zeros(hidden_size)\n",
        "        self.params['W2'] = weight_init_std * np.random.randn(hidden_size, output_size)\n",
        "        self.params['b2'] = np.zeros(output_size)\n",
        "\n",
        "    def predict(self, x):\n",
        "        W1, W2 = self.params['W1'], self.params['W2']\n",
        "        b1, b2 = self.params['b1'], self.params['b2']\n",
        "    \n",
        "        a1 = np.dot(x, W1) + b1\n",
        "        z1 = sigmoid(a1)\n",
        "        a2 = np.dot(z1, W2) + b2\n",
        "        y = softmax(a2)\n",
        "        \n",
        "        return y\n",
        "        \n",
        "    # x : 입력 데이터, t : 정답 레이블\n",
        "    def loss(self, x, t):\n",
        "        y = self.predict(x)\n",
        "        \n",
        "        return cross_entropy_error(y, t)\n",
        "    \n",
        "    def accuracy(self, x, t):\n",
        "        y = self.predict(x)\n",
        "        y = np.argmax(y, axis=1)\n",
        "        t = np.argmax(t, axis=1)\n",
        "        \n",
        "        accuracy = np.sum(y == t) / float(x.shape[0])\n",
        "        return accuracy\n",
        "        \n",
        "    # x : 입력 데이터, t : 정답 레이블\n",
        "    def numerical_gradient(self, x, t):\n",
        "        loss_W = lambda W: self.loss(x, t)\n",
        "        \n",
        "        grads = {}\n",
        "        grads['W1'] = numerical_gradient(loss_W, self.params['W1'])\n",
        "        grads['b1'] = numerical_gradient(loss_W, self.params['b1'])\n",
        "        grads['W2'] = numerical_gradient(loss_W, self.params['W2'])\n",
        "        grads['b2'] = numerical_gradient(loss_W, self.params['b2'])\n",
        "        \n",
        "        return grads\n",
        "        \n",
        "    def gradient(self, x, t):\n",
        "        W1, W2 = self.params['W1'], self.params['W2']\n",
        "        b1, b2 = self.params['b1'], self.params['b2']\n",
        "        grads = {}\n",
        "        \n",
        "        batch_num = x.shape[0]\n",
        "        \n",
        "        # forward\n",
        "        a1 = np.dot(x, W1) + b1\n",
        "        z1 = sigmoid(a1)\n",
        "        a2 = np.dot(z1, W2) + b2\n",
        "        y = softmax(a2)\n",
        "        \n",
        "        # backward\n",
        "        dy = (y - t) / batch_num\n",
        "        grads['W2'] = np.dot(z1.T, dy)\n",
        "        grads['b2'] = np.sum(dy, axis=0)\n",
        "        \n",
        "        da1 = np.dot(dy, W2.T)\n",
        "        dz1 = sigmoid_grad(a1) * da1\n",
        "        grads['W1'] = np.dot(x.T, dz1)\n",
        "        grads['b1'] = np.sum(dz1, axis=0)\n",
        "\n",
        "        return grads"
      ],
      "execution_count": null,
      "outputs": []
    }
  ]
}